{
 "cells": [
  {
   "cell_type": "markdown",
   "metadata": {},
   "source": [
    "# AUDiaL: Demographic Report"
   ]
  },
  {
   "cell_type": "markdown",
   "metadata": {},
   "source": [
    "This notebook summarizes demographic information about the participants that volunteered to evaluate [AUDiaL - Accessible Universal Diagrams through Language](https://github.com/tomurillo/AUDiaL).\n",
    "\n",
    "The current prototype of AUDiaL was evaluated in a number of sessions with blind or almost blind participants. Two sessions took place as part of [ICC 2019](https://www.icc-camp.info/). Smaller sessions with one participant each were also conducted with blind participants brought together among students and staff from the [Johannes Kepler University Linz](https://www.jku.at/)."
   ]
  },
  {
   "cell_type": "markdown",
   "metadata": {},
   "source": [
    "Before starting, let us load the required dependencies and utility methods:"
   ]
  },
  {
   "cell_type": "code",
   "execution_count": 1,
   "metadata": {},
   "outputs": [],
   "source": [
    "import os\n",
    "from collections import defaultdict\n",
    "import operator\n",
    "import numpy as np\n",
    "import matplotlib.pyplot as plt\n",
    "plt.rcParams['figure.figsize'] = [10, 6]\n",
    "\n",
    "def print_count_dict(count_dict, total_n=0, indent=0):\n",
    "    \"\"\"\n",
    "    Pretty-print a list of the elements given by count_dict\n",
    "    \"\"\"\n",
    "    unique, counts = np.unique(count_dict, return_counts=True)\n",
    "    count_sord_idx = np.argsort(-counts)\n",
    "    for k, v in zip(unique[count_sord_idx], counts[count_sord_idx]):\n",
    "        line = ' ' * indent\n",
    "        if indent > 0:\n",
    "            line += '- '\n",
    "        line += '{}: {} times'.format(k, v)\n",
    "        if total_n > 0:\n",
    "            line += \" ({:04.2f}%)\".format(v*100/total_n)\n",
    "        print(line + \".\")"
   ]
  },
  {
   "cell_type": "markdown",
   "metadata": {},
   "source": [
    "## Demographic Data"
   ]
  },
  {
   "cell_type": "markdown",
   "metadata": {},
   "source": [
    "First, participants were given a short online questionnaire in order to collect demographic data before the evaluation took place. Questions included basic personal information such as age and gender, as well as questions about individual experience and habits browsing the Web and interpreting diagrams."
   ]
  },
  {
   "cell_type": "code",
   "execution_count": 2,
   "metadata": {},
   "outputs": [
    {
     "name": "stdout",
     "output_type": "stream",
     "text": [
      "N=9 participants.\n"
     ]
    }
   ],
   "source": [
    "CSV_DIR = 'data'\n",
    "DEMO_FILE = 'AUDiaL_demographic_anonymized.csv'\n",
    "demo_data = np.genfromtxt(os.path.join(CSV_DIR, DEMO_FILE), dtype=None, delimiter=',', names=True, encoding=None)\n",
    "N = demo_data.shape[0]\n",
    "print('N={} participants.'.format(N))"
   ]
  },
  {
   "cell_type": "markdown",
   "metadata": {},
   "source": [
    "### Age"
   ]
  },
  {
   "cell_type": "code",
   "execution_count": 3,
   "metadata": {},
   "outputs": [
    {
     "name": "stdout",
     "output_type": "stream",
     "text": [
      "Range: 17 to 58 years.\n",
      "Average: 24.11 years.\n",
      "Standard deviation: 12.17 years.\n"
     ]
    }
   ],
   "source": [
    "ages = demo_data[:]['Age']\n",
    "print('Range: {} to {} years.'.format(np.min(ages), np.max(ages)))\n",
    "print('Average: {:05.2f} years.'.format(np.mean(ages)))\n",
    "print('Standard deviation: {:05.2f} years.'.format(np.std(ages)))"
   ]
  },
  {
   "cell_type": "markdown",
   "metadata": {},
   "source": [
    "### Gender"
   ]
  },
  {
   "cell_type": "code",
   "execution_count": 4,
   "metadata": {},
   "outputs": [
    {
     "name": "stdout",
     "output_type": "stream",
     "text": [
      "Male: 4 times (44.44%).\n",
      "Female: 5 times (55.56%).\n"
     ]
    }
   ],
   "source": [
    "gender = demo_data[:]['Gender']\n",
    "male = (gender == 'M').sum()\n",
    "female = (gender == 'F').sum()\n",
    "print('Male: {} times ({:04.2f}%).'.format(male, male*100/N))\n",
    "print('Female: {} times ({:04.2f}%).'.format(female, female*100/N))"
   ]
  },
  {
   "cell_type": "markdown",
   "metadata": {},
   "source": [
    "### Visual Impairement"
   ]
  },
  {
   "cell_type": "markdown",
   "metadata": {},
   "source": [
    "Participants were asked two questions regarding their visual impairement:\n",
    "<section>\n",
    "    <h5>Which of the following describes you best?</h5>\n",
    "    <ul>\n",
    "        <li>I am totally blind</li>\n",
    "        <li>I have near total blindness</li>\n",
    "        <li>I have profound low vision</li>\n",
    "        <li>I have severe low vision</li>\n",
    "        <li>I have moderate low vision</li>\n",
    "        <li>I have near-normal vision</li>\n",
    "        <li>I have normal vision</li>\n",
    "    </ul>\n",
    "</section>"
   ]
  },
  {
   "cell_type": "code",
   "execution_count": 5,
   "metadata": {},
   "outputs": [
    {
     "name": "stdout",
     "output_type": "stream",
     "text": [
      "Blind: 7 times (77.78%).\n",
      "Near Blind: 2 times (22.22%).\n"
     ]
    }
   ],
   "source": [
    "blind = demo_data[:]['Sight']\n",
    "print_count_dict(blind, N)"
   ]
  },
  {
   "cell_type": "markdown",
   "metadata": {},
   "source": [
    "<section>\n",
    "    <h5>(If they chose one of the first two answers on the previous question) Since when are you blind?</h5>\n",
    "    <ul>\n",
    "        <li>I am blind from birth</li>\n",
    "        <li>I have been blind for more than 10 years</li>\n",
    "        <li>I have been blind for between 5 and 10 years</li>\n",
    "        <li>I have been blind for between 1 and 5 years</li>\n",
    "        <li>I have been blind for less than 1 year</li>\n",
    "    </ul>\n",
    "</section>"
   ]
  },
  {
   "cell_type": "code",
   "execution_count": 6,
   "metadata": {},
   "outputs": [
    {
     "name": "stdout",
     "output_type": "stream",
     "text": [
      "Blind since:\n",
      "  - Birth: 8 times (88.89%).\n",
      "  - more than 10 years: 1 times (11.11%).\n"
     ]
    }
   ],
   "source": [
    "blind_since = demo_data[:]['Blind_since']\n",
    "print('Blind since:')\n",
    "print_count_dict(blind_since, N, indent=2)"
   ]
  },
  {
   "cell_type": "markdown",
   "metadata": {},
   "source": [
    "All participants were totally or functionally blind and had been so since birth or early childhood. Therefore, they were incapable of understanding visually displayed information in diagrams and were thus fitting for the evaluation of AUDiaL."
   ]
  },
  {
   "cell_type": "markdown",
   "metadata": {},
   "source": [
    "### Web Browsing Habits"
   ]
  },
  {
   "cell_type": "markdown",
   "metadata": {},
   "source": [
    "Next, participants were asked to answer three questions related to the ways they surf the Web in their daily lives. These questions were included in order to assess whether participants presented any hindrances that may obstruct their use of the Web tool employed during the evaluation, such as lack of experience browsing web pages or being accustomed to assistive technologies not available in the session room.\n",
    "\n",
    "<section>\n",
    "<h5>How long (approximately) have you been browsing Web pages?</h5>\n",
    "<ul>\n",
    "    <li>I have no experience browsing the Web</li>\n",
    "    <li>Less than 1 year</li>\n",
    "    <li>Between 1 and 5 years</li>\n",
    "    <li>Between 5 and 10 years</li>\n",
    "    <li>More than 10 years</li>\n",
    "</ul>\n",
    "</section>"
   ]
  },
  {
   "cell_type": "code",
   "execution_count": 7,
   "metadata": {},
   "outputs": [
    {
     "name": "stdout",
     "output_type": "stream",
     "text": [
      "Web browsing experience:\n",
      "  - more than 5 years: 6 times (66.67%).\n",
      "  - more than 10 years: 3 times (33.33%).\n"
     ]
    }
   ],
   "source": [
    "wb_exp = demo_data[:]['Web_Browsing_Experience']\n",
    "print('Web browsing experience:')\n",
    "print_count_dict(wb_exp, N, indent=2)"
   ]
  },
  {
   "cell_type": "markdown",
   "metadata": {},
   "source": [
    "All participants were proficient in navigating the Web, having more than 5 years of experience in doing so. Therefore it can be assumed that any difficulties experienced during the evaluation of AUDiaL were not due to lack of skill of the participants while using the Web prototype."
   ]
  },
  {
   "cell_type": "markdown",
   "metadata": {},
   "source": [
    "<section>\n",
    "<h5>How do you browse Web pages? (choose all that apply):</h5>\n",
    "<ul>\n",
    "    <li>Screen reader and text-to-speech software</li>\n",
    "    <li>Screen reader and a Braille display</li>\n",
    "    <li>Screen magnifier software</li>\n",
    "    <li>Other assistive technologies</li>\n",
    "    <li>I do not use assistive technologies</li>\n",
    "</ul>\n",
    "</section>"
   ]
  },
  {
   "cell_type": "code",
   "execution_count": 8,
   "metadata": {},
   "outputs": [
    {
     "name": "stdout",
     "output_type": "stream",
     "text": [
      "Assistive Technologies (combined counts):\n",
      "  - TTS; Braille: 4 times (44.44%).\n",
      "  - Braille: 2 times (22.22%).\n",
      "  - TTS: 2 times (22.22%).\n",
      "  - TTS; Magnifier: 1 times (11.11%).\n"
     ]
    }
   ],
   "source": [
    "ass_tech_raw = demo_data[:]['Browsing_Habit']\n",
    "print('Assistive Technologies (combined counts):')\n",
    "print_count_dict(ass_tech_raw, N, indent=2)"
   ]
  },
  {
   "cell_type": "code",
   "execution_count": 9,
   "metadata": {},
   "outputs": [
    {
     "name": "stdout",
     "output_type": "stream",
     "text": [
      "Assistive Technologies (unique counts):\n",
      "  - TTS: 7 times (77.78%)\n",
      "  - Braille: 6 times (66.67%)\n",
      "  - Magnifier: 1 times (11.11%)\n"
     ]
    }
   ],
   "source": [
    "ass_tech_names = ['TTS', 'Braille', 'Magnifier']\n",
    "ass_tech = defaultdict(int)\n",
    "for t in ass_tech_raw:\n",
    "    for n in ass_tech_names:\n",
    "        if n in t:\n",
    "            ass_tech[n] += 1\n",
    "print('Assistive Technologies (unique counts):')\n",
    "for t, n in ass_tech.items():\n",
    "    print('  - {}: {} times ({:04.2f}%)'.format(t, n, n*100/N))"
   ]
  },
  {
   "cell_type": "markdown",
   "metadata": {},
   "source": [
    "All participants used common assistive technologies that were available in the experiment room. One participant reported using magnifier software for browsing the Web. However, her very low vission made it implausible for her to be able to correctly interprent diagrams by means of sight. Moreover, the diagrams used during the evaluation session were not displayed to the users in a visual manner at any time."
   ]
  },
  {
   "cell_type": "markdown",
   "metadata": {},
   "source": [
    "<h5>Which screen reader (if any) do you use?</h5>"
   ]
  },
  {
   "cell_type": "code",
   "execution_count": 10,
   "metadata": {},
   "outputs": [
    {
     "name": "stdout",
     "output_type": "stream",
     "text": [
      "Screen Readers:\n",
      "  - jaws: 5 times (55.56%)\n",
      "  - nvda: 8 times (88.89%)\n",
      "  - voiceover: 1 times (11.11%)\n"
     ]
    }
   ],
   "source": [
    "sreader_raw = demo_data[:]['Screen_Reader']\n",
    "sreader_raw_split = []\n",
    "for s in sreader_raw:\n",
    "    sreader_raw_split.extend(s.split(';'))\n",
    "sreaders_names = ['nvda', 'jaws', 'voiceover']\n",
    "sreaders = defaultdict(int)\n",
    "for sr in sreader_raw_split:\n",
    "    sr_norm = sr.lower().strip()\n",
    "    if sr_norm in sreaders_names:\n",
    "        sreaders[sr_norm] += 1\n",
    "print('Screen Readers:')\n",
    "for s, n in sreaders.items():\n",
    "    print('  - {}: {} times ({:04.2f}%)'.format(s, n, n*100/N))"
   ]
  },
  {
   "cell_type": "markdown",
   "metadata": {},
   "source": [
    "All desktop screen readers reported by the partipants (NVDA and Jaws) were pre-installed on the computers employed during the evaluation sessions."
   ]
  },
  {
   "cell_type": "markdown",
   "metadata": {},
   "source": [
    "### Diagram Knowledge and Experience"
   ]
  },
  {
   "cell_type": "markdown",
   "metadata": {},
   "source": [
    "Lastly, participants were asked about their knowledge on diagrams, common accessibility features of diagrams they encounter online, and their preferred means of accessing diagrams."
   ]
  },
  {
   "cell_type": "markdown",
   "metadata": {},
   "source": [
    "<section>\n",
    "<h5>Which of these diagram types do you know about?</h5>\n",
    "<ul>\n",
    "    <li>Bar Chart</li>\n",
    "    <li>Histogram</li>\n",
    "    <li>Pie Chart</li>\n",
    "    <li>Line Chart</li>\n",
    "    <li>Scatterplot</li>\n",
    "    <li>Area Chart</li>\n",
    "    <li>Link Diagram (also known as graph)</li>\n",
    "    <li>Group Diagrams (for example, Euler diagrams)</li>\n",
    "    <li>Which other diagram types do you know? (free text input)</li>\n",
    "</ul>\n",
    "</section>"
   ]
  },
  {
   "cell_type": "code",
   "execution_count": 11,
   "metadata": {},
   "outputs": [
    {
     "data": {
      "image/png": "[encoded data removed]",
      "text/plain": [
       "<Figure size 800x480 with 1 Axes>"
      ]
     },
     "metadata": {},
     "output_type": "display_data"
    }
   ],
   "source": [
    "diag_names = ['Bar_Chart', 'Histogram', 'Pie_Chart', 'Line_Chart', 'Scatterplot', 'Area_Chart', 'Link_Diag', 'Group_Diag', 'Other']\n",
    "diag_counts = {}\n",
    "for d in diag_names:\n",
    "    diag_counts[d] = (demo_data[:][d] == 'Y').sum()\n",
    "diag_counts_sort = sorted(diag_counts.items(), key=operator.itemgetter(1), reverse=True)\n",
    "x = np.arange(len(diag_names))\n",
    "y = []\n",
    "xticks = []\n",
    "for k, v in diag_counts_sort:\n",
    "    y.append(v)\n",
    "    xticks.append(k.replace('_', ' ').replace('Diag', 'Diagram'))\n",
    "fig = plt.figure(figsize=(10, 6), dpi=80, facecolor='w', edgecolor='k')\n",
    "plt.bar(x, y)\n",
    "plt.xticks(x, xticks)\n",
    "plt.xticks(fontsize=12, rotation=90)\n",
    "plt.ylabel('Count')\n",
    "plt.title('Participants claiming to be familiar with diagram types')\n",
    "plt.show()"
   ]
  },
  {
   "cell_type": "markdown",
   "metadata": {},
   "source": [
    "In the figure above it can be observed how the majority of participants are familiar with three very common statistical diagrams, namely bar charts, pie charts, and line charts. On the other hand, less than half of the participants have dealt with link diagrams, group diagrams, histograms, and scatterplots in their lifetimes. Not a single participant was able to name other kinds of diagrams. This may be due to the fact that participants felt like they had to complete the questionnaire in a short time, even though they were not given any time constrain to fill it in during the experiment sessions.\n",
    "\n",
    "The fact that participants are most familiar with bar and line charts is of great benefit for the evaluation, as the diagrams being employed are precisely of these two types. We can therefore assume that, for most participants, answering the evaluation questions is not hindered by them failing to realize the purpose of using diagrammatic representations of data in the first place."
   ]
  },
  {
   "cell_type": "markdown",
   "metadata": {},
   "source": [
    "<section>\n",
    "<h5>How often do you encounter diagrams on Web pages?</h5>\n",
    "<ul>\n",
    "    <li>Never</li>\n",
    "    <li>Almost never (less than 5% of visited Web pages)</li>\n",
    "    <li>Not very often (less than 15% of visited Web pages)</li>\n",
    "    <li>Often (between 15% and 25% of visited Web pages)</li>\n",
    "    <li>Very often (more than 25% of visited Web pages)</li>\n",
    "</ul>\n",
    "</section>"
   ]
  },
  {
   "cell_type": "code",
   "execution_count": 12,
   "metadata": {},
   "outputs": [
    {
     "name": "stdout",
     "output_type": "stream",
     "text": [
      "Frequency with which diagrams are encountered on websites:\n",
      "  - <15% of Websites: 5 times (55.56%).\n",
      "  - Almost Never: 2 times (22.22%).\n",
      "  - <5% of Websites: 1 times (11.11%).\n",
      "  - Never: 1 times (11.11%).\n"
     ]
    }
   ],
   "source": [
    "diag_freq = demo_data[:]['Diagram_Frequency']\n",
    "print('Frequency with which diagrams are encountered on websites:')\n",
    "print_count_dict(diag_freq, N, indent=2)"
   ]
  },
  {
   "cell_type": "markdown",
   "metadata": {},
   "source": [
    "Most users encounter diagrams on less than 15% of the websites they visit i.e. 'not very often'. 15% of visited websites is nevertheless a high frequency, given that very often blind web users completely skip diagrams during navigation and may not remember having encountered them."
   ]
  },
  {
   "cell_type": "code",
   "execution_count": 18,
   "metadata": {},
   "outputs": [
    {
     "data": {
      "image/png": "[encoded data removed]",
      "text/plain": [
       "<Figure size 640x480 with 1 Axes>"
      ]
     },
     "metadata": {},
     "output_type": "display_data"
    }
   ],
   "source": [
    "web_names = ['News', 'School', 'Social', 'Personal', 'Game', 'Other']\n",
    "web_counts = {}\n",
    "for n in web_names:\n",
    "    web_counts[n] = (demo_data[:][n] == 'Y').sum()\n",
    "web_counts_sort = sorted(web_counts.items(), key=operator.itemgetter(1), reverse=True)\n",
    "x = np.arange(len(web_names))\n",
    "y = []\n",
    "xticks = []\n",
    "for k, v in web_counts_sort:\n",
    "    y.append(v)\n",
    "    xticks.append(k)\n",
    "fig = plt.figure(figsize=(8, 6), dpi=80, facecolor='w', edgecolor='k')\n",
    "plt.bar(x, y)\n",
    "plt.xticks(x, xticks)\n",
    "plt.xticks(fontsize=12)\n",
    "plt.ylabel('Count')\n",
    "plt.title('Website types where participants report to frequently encounter diagrams')\n",
    "plt.show()"
   ]
  },
  {
   "cell_type": "code",
   "execution_count": 14,
   "metadata": {},
   "outputs": [
    {
     "name": "stdout",
     "output_type": "stream",
     "text": [
      "Frequency with which an alt-text attribute is encountered on online diagrams:\n",
      "  - Almost never: 3 times (33.33%).\n",
      "  - Never: 3 times (33.33%).\n",
      "  - Sometimes: 2 times (22.22%).\n",
      "  - Most times: 1 times (11.11%).\n"
     ]
    }
   ],
   "source": [
    "alt_freq = demo_data[:]['Alt_Text']\n",
    "print('Frequency with which an alt-text attribute is encountered on online diagrams:')\n",
    "print_count_dict(alt_freq, N, indent=2)"
   ]
  },
  {
   "cell_type": "code",
   "execution_count": 15,
   "metadata": {},
   "outputs": [
    {
     "name": "stdout",
     "output_type": "stream",
     "text": [
      "Frequency with which a long description accompanies online diagrams:\n",
      "  - Almost never: 5 times (55.56%).\n",
      "  - Never: 4 times (44.44%).\n"
     ]
    }
   ],
   "source": [
    "longdesc_freq = demo_data[:]['Longdesc']\n",
    "print('Frequency with which a long description accompanies online diagrams:')\n",
    "print_count_dict(longdesc_freq, N, indent=2)"
   ]
  },
  {
   "cell_type": "code",
   "execution_count": 16,
   "metadata": {},
   "outputs": [
    {
     "name": "stdout",
     "output_type": "stream",
     "text": [
      "Frequency with tactile diagrams are read:\n",
      "  - <5 times: 3 times (33.33%).\n",
      "  - Few times/year: 3 times (33.33%).\n",
      "  - Never: 2 times (22.22%).\n",
      "  - <10 times: 1 times (11.11%).\n"
     ]
    }
   ],
   "source": [
    "tactile_freq = demo_data[:]['Tactile_Freq']\n",
    "print('Frequency with tactile diagrams are read:')\n",
    "print_count_dict(tactile_freq, N, indent=2)"
   ]
  },
  {
   "cell_type": "code",
   "execution_count": 17,
   "metadata": {},
   "outputs": [
    {
     "name": "stdout",
     "output_type": "stream",
     "text": [
      "Preferred alternative means for accessing diagrams:\n",
      "  - Text description: 5 times (55.56%).\n",
      "  - Table: 2 times (22.22%).\n",
      "  - Tactile copy: 2 times (22.22%).\n"
     ]
    }
   ],
   "source": [
    "alt_preferred = demo_data[:]['Preferred_alt']\n",
    "print('Preferred alternative means for accessing diagrams:')\n",
    "print_count_dict(alt_preferred, N, indent=2)"
   ]
  }
 ],
 "metadata": {
  "kernelspec": {
   "display_name": "Python 3",
   "language": "python",
   "name": "python3"
  },
  "language_info": {
   "codemirror_mode": {
    "name": "ipython",
    "version": 3
   },
   "file_extension": ".py",
   "mimetype": "text/x-python",
   "name": "python",
   "nbconvert_exporter": "python",
   "pygments_lexer": "ipython3",
   "version": "3.7.0"
  }
 },
 "nbformat": 4,
 "nbformat_minor": 2
}
